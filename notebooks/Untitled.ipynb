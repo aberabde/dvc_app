{
 "cells": [
  {
   "cell_type": "code",
   "execution_count": 4,
   "id": "e6fba9f9-a4b8-404b-b3b3-01612b07a89d",
   "metadata": {},
   "outputs": [],
   "source": [
    "import os\n",
    "import argparse\n",
    "from flask import Flask,render_template,url_for,request\n",
    "import pandas as pd\n",
    "import numpy as np\n",
    "import pickle\n",
    "# from sklearn.externals import joblib\n",
    "\n",
    "from joblib import dump, load\n",
    "from sklearn.feature_extraction.text import CountVectorizer\n"
   ]
  },
  {
   "cell_type": "code",
   "execution_count": 6,
   "id": "061cd80e-bbc6-4705-98df-2029f67b0c54",
   "metadata": {},
   "outputs": [],
   "source": [
    "app = Flask(__name__)\n",
    "\n",
    "@app.route('/')\n",
    "def home():\n",
    "\treturn render_template('home.html')\n",
    "\n",
    "@app.route('/predict',methods=['POST'])\n",
    "def predict():\n",
    "\n",
    "\tif request.method == 'POST':\n",
    "\n",
    "\t\tmessage = request.form['message']\n",
    "\t\tmessage= pd.Series(message)\n",
    "\t\t# message = message.to_frame() \n",
    "\t\tdata = processed_data(message)\n",
    "\t\tdata_words = np.array(data.str.lower().values.astype(\"U\"))\n",
    "\t\tprint(data_words)\n",
    "\t\t# data = [message]\n",
    "\t\t\n",
    "\t\tbag_of_words = load(os.path.join(\"saved_models\", \"bag_of_words.pkl\"))\n",
    "\t\t\n",
    "\t\tvect = bag_of_words.transform(data_words)\n",
    "\t\t\n",
    "\t\t\n",
    "\t\tmodel = load(os.path.join(\"saved_models\", \"model.pkl\"))\n",
    "\t\tmy_prediction = model.predict(vect)\n",
    "\t\n",
    "\treturn render_template('result.html',prediction = my_prediction)\n"
   ]
  },
  {
   "cell_type": "code",
   "execution_count": 7,
   "id": "905f83a1-a7dc-413e-84a3-fbc86778399c",
   "metadata": {},
   "outputs": [
    {
     "name": "stdout",
     "output_type": "stream",
     "text": [
      " * Serving Flask app '__main__' (lazy loading)\n",
      " * Environment: production\n",
      "\u001b[31m   WARNING: This is a development server. Do not use it in a production deployment.\u001b[0m\n",
      "\u001b[2m   Use a production WSGI server instead.\u001b[0m\n",
      " * Debug mode: on\n"
     ]
    },
    {
     "name": "stderr",
     "output_type": "stream",
     "text": [
      " * Running on http://127.0.0.1:5000 (Press CTRL+C to quit)\n",
      " * Restarting with stat\n"
     ]
    },
    {
     "ename": "SystemExit",
     "evalue": "1",
     "output_type": "error",
     "traceback": [
      "An exception has occurred, use %tb to see the full traceback.\n",
      "\u001b[1;31mSystemExit\u001b[0m\u001b[1;31m:\u001b[0m 1\n"
     ]
    },
    {
     "name": "stderr",
     "output_type": "stream",
     "text": [
      "C:\\Users\\Aberhouch\\anaconda3\\envs\\dvc_app\\lib\\site-packages\\IPython\\core\\interactiveshell.py:3561: UserWarning: To exit: use 'exit', 'quit', or Ctrl-D.\n",
      "  warn(\"To exit: use 'exit', 'quit', or Ctrl-D.\", stacklevel=1)\n"
     ]
    }
   ],
   "source": [
    "\n",
    "if __name__ == '__main__':\n",
    "\tapp.run(debug=True)"
   ]
  },
  {
   "cell_type": "code",
   "execution_count": null,
   "id": "e6c632d6-75e5-4a4b-8e1c-03c662f20ec1",
   "metadata": {},
   "outputs": [],
   "source": []
  }
 ],
 "metadata": {
  "kernelspec": {
   "display_name": "Python 3 (ipykernel)",
   "language": "python",
   "name": "python3"
  },
  "language_info": {
   "codemirror_mode": {
    "name": "ipython",
    "version": 3
   },
   "file_extension": ".py",
   "mimetype": "text/x-python",
   "name": "python",
   "nbconvert_exporter": "python",
   "pygments_lexer": "ipython3",
   "version": "3.7.13"
  }
 },
 "nbformat": 4,
 "nbformat_minor": 5
}
